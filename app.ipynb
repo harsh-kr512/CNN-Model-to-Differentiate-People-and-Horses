{
 "cells": [
  {
   "cell_type": "code",
   "execution_count": 16,
   "id": "fbd32306-4c06-49e1-ba83-3b3902fa762e",
   "metadata": {},
   "outputs": [
    {
     "name": "stderr",
     "output_type": "stream",
     "text": [
      "\n",
      "KeyboardInterrupt\n",
      "\n"
     ]
    }
   ],
   "source": [
    "#Import necessary libraries\n",
    "from flask import Flask, render_template, request\n",
    " \n",
    "import numpy as np\n",
    "import os\n",
    " \n",
    "from keras.preprocessing.image import load_img\n",
    "from keras.preprocessing.image import img_to_array\n",
    "from keras.models import load_model\n",
    " \n",
    "#load model\n",
    "model =load_model(\"horse_or_human_predictor.h5\")\n",
    " \n",
    "print('@@ Model loaded')\n",
    " \n",
    "def pred_human_horse(horse_or_human):\n",
    "  test_image = load_img(horse_or_human, target_size = (150, 150)) # load image \n",
    "  print(\"@@ Got Image for prediction\")\n",
    "   \n",
    "  test_image = img_to_array(test_image)/255 # convert image to np array and normalize\n",
    "  test_image = np.expand_dims(test_image, axis = 0) # change dimention 3D to 4D\n",
    "   \n",
    "  result = model.predict(test_image).round(1) # predict class horse or human\n",
    "  print('@@ Raw result = ', result)\n",
    "   \n",
    "  pred = np.argmax(result) # get the index of max value\n",
    " \n",
    "  if pred == 0:\n",
    "    return \"Horse\" # if index 0 \n",
    "  else:\n",
    "    return \"Human\" # if index 1\n",
    " \n",
    "#------------>>pred_human_horse<<--end\n",
    "     \n",
    "# Create flask instance\n",
    "app = Flask(__name__)\n",
    " \n",
    "# render index.html page\n",
    "@app.route(\"/\", methods=['GET', 'POST'])\n",
    "def home():\n",
    "        return render_template('index.html')\n",
    "     \n",
    "@app.route(\"/predict\", methods = ['GET','POST'])\n",
    "def predict():\n",
    "     if request.method == 'POST':\n",
    "        file = request.files['image'] # fet input\n",
    "        filename = file.filename        \n",
    "        print(\"@@ Input posted = \", filename)\n",
    "         \n",
    "        file_path = os.path.join('static/user upload', filename)\n",
    "        file.save(file_path)\n",
    " \n",
    "        print(\"@@ Predicting class......\")\n",
    "        pred = pred_human_horse(horse_or_human=file_path)\n",
    "               \n",
    "        return render_template('predict.html', pred_output = pred, user_image = file_path)\n",
    "     \n",
    "#Fo local system\n",
    "if __name__ == \"__main__\":\n",
    "    app.run(threaded=False,) \n",
    "     \n",
    "# #Fo AWS cloud\n",
    "# if _name_ == \"_main_\":\n",
    "#     app.run(host='0.0.0.0.0', post='8080',threaded=False,)"
   ]
  },
  {
   "cell_type": "code",
   "execution_count": 15,
   "id": "36f4fd72-0a1f-4b12-8f22-b39cc7a0a311",
   "metadata": {},
   "outputs": [
    {
     "name": "stdout",
     "output_type": "stream",
     "text": [
      "@@ Model loaded\n",
      " * Serving Flask app '__main__'\n",
      " * Debug mode: off\n"
     ]
    },
    {
     "name": "stderr",
     "output_type": "stream",
     "text": [
      "WARNING: This is a development server. Do not use it in a production deployment. Use a production WSGI server instead.\n",
      " * Running on http://127.0.0.1:5000\n",
      "Press CTRL+C to quit\n",
      "127.0.0.1 - - [24/Feb/2024 17:37:56] \"GET / HTTP/1.1\" 200 -\n",
      "127.0.0.1 - - [24/Feb/2024 17:37:57] \"GET /static/images/horse%20or%20human%20banner.png HTTP/1.1\" 200 -\n",
      "127.0.0.1 - - [24/Feb/2024 17:37:58] \"GET /favicon.ico HTTP/1.1\" 404 -\n"
     ]
    },
    {
     "name": "stdout",
     "output_type": "stream",
     "text": [
      "@@ Input posted =  horse_img.png\n",
      "@@ Predicting class......\n",
      "@@ Got Image for prediction\n",
      "1/1 [==============================] - 1s 797ms/step\n"
     ]
    },
    {
     "name": "stderr",
     "output_type": "stream",
     "text": [
      "127.0.0.1 - - [24/Feb/2024 17:38:09] \"POST /predict HTTP/1.1\" 200 -\n",
      "127.0.0.1 - - [24/Feb/2024 17:38:09] \"GET /static/user%20upload/horse_img.png HTTP/1.1\" 200 -\n",
      "127.0.0.1 - - [24/Feb/2024 17:38:09] \"GET /static/images/horse%20or%20human%20banner.png HTTP/1.1\" 304 -\n"
     ]
    },
    {
     "name": "stdout",
     "output_type": "stream",
     "text": [
      "@@ Raw result =  [[0.7 0.4]]\n"
     ]
    }
   ],
   "source": [
    "#Import necessary libraries\n",
    "from flask import Flask, render_template, request\n",
    " \n",
    "import numpy as np\n",
    "import os\n",
    " \n",
    "from keras.preprocessing.image import load_img\n",
    "from keras.preprocessing.image import img_to_array\n",
    "from keras.models import load_model\n",
    " \n",
    "#load model\n",
    "model = load_model(\"horse_or_human_predictor.h5\")\n",
    " \n",
    "print('@@ Model loaded')\n",
    " \n",
    "def pred_human_horse(horse_or_human):\n",
    "    test_image = load_img(horse_or_human, target_size=(150, 150)) # load image \n",
    "    print(\"@@ Got Image for prediction\")\n",
    "   \n",
    "    test_image = img_to_array(test_image) / 255 # convert image to np array and normalize\n",
    "    test_image = np.expand_dims(test_image, axis=0) # change dimension 3D to 4D\n",
    "   \n",
    "    result = model.predict(test_image).round(1) # predict class horse or human\n",
    "    print('@@ Raw result = ', result)\n",
    "   \n",
    "    pred = np.argmax(result) # get the index of max value\n",
    "\n",
    "    if pred == 0:\n",
    "        return \"Horse\" # if index 0 \n",
    "    else:\n",
    "        return \"Human\" # if index 1\n",
    "\n",
    "# Create flask instance\n",
    "app = Flask(__name__)\n",
    " \n",
    "# render index.html page\n",
    "@app.route(\"/\", methods=['GET', 'POST'])\n",
    "def home():\n",
    "    return render_template('index.html')\n",
    " \n",
    "@app.route(\"/predict\", methods=['GET', 'POST'])\n",
    "def predict():\n",
    "    if request.method == 'POST':\n",
    "        file = request.files['image'] # get input\n",
    "        filename = file.filename        \n",
    "        print(\"@@ Input posted = \", filename)\n",
    "         \n",
    "        file_path = os.path.join('static/user upload', filename)\n",
    "        file.save(file_path)\n",
    " \n",
    "        print(\"@@ Predicting class......\")\n",
    "        pred = pred_human_horse(horse_or_human=file_path)\n",
    "               \n",
    "        return render_template('predict.html', pred_output=pred, user_image=file_path)\n",
    " \n",
    "# For local system\n",
    "if __name__ == \"__main__\":\n",
    "    app.run(threaded=False) \n",
    "     \n",
    "# # For AWS cloud\n",
    "# if __name__ == \"__main__\":\n",
    "#     app.run(host='0.0.0.0.0', port='8080', threaded=False)\n"
   ]
  },
  {
   "cell_type": "code",
   "execution_count": null,
   "id": "c3e088cf-aff1-4df9-b995-6aa7e9ca7cde",
   "metadata": {},
   "outputs": [],
   "source": []
  }
 ],
 "metadata": {
  "kernelspec": {
   "display_name": "Python 3 (ipykernel)",
   "language": "python",
   "name": "python3"
  },
  "language_info": {
   "codemirror_mode": {
    "name": "ipython",
    "version": 3
   },
   "file_extension": ".py",
   "mimetype": "text/x-python",
   "name": "python",
   "nbconvert_exporter": "python",
   "pygments_lexer": "ipython3",
   "version": "3.11.5"
  }
 },
 "nbformat": 4,
 "nbformat_minor": 5
}
